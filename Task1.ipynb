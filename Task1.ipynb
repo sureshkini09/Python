{
  "nbformat": 4,
  "nbformat_minor": 0,
  "metadata": {
    "colab": {
      "provenance": [],
      "authorship_tag": "ABX9TyP74kpTHHONVFkj9660w/PC",
      "include_colab_link": true
    },
    "kernelspec": {
      "name": "python3",
      "display_name": "Python 3"
    },
    "language_info": {
      "name": "python"
    }
  },
  "cells": [
    {
      "cell_type": "markdown",
      "metadata": {
        "id": "view-in-github",
        "colab_type": "text"
      },
      "source": [
        "<a href=\"https://colab.research.google.com/github/sureshkini09/Python/blob/main/Task1.ipynb\" target=\"_parent\"><img src=\"https://colab.research.google.com/assets/colab-badge.svg\" alt=\"Open In Colab\"/></a>"
      ]
    },
    {
      "cell_type": "code",
      "source": [
        "# 1. Read a CSV file with data in multiple columns and compute mean, median mode of each of the columns.\n",
        "import pandas as pd\n",
        "data = pd.read_csv('/content/sample_data/smoking_driking_dataset_Ver01[1].csv')\n",
        "print(data. to_string())\n",
        "columns_mean = data.mean()\n",
        "print(\"Mean of each column\")\n",
        "print(columns_mean)\n",
        "columns_median = data.median()\n",
        "print(\"Median of each column\")\n",
        "print(columns_median)\n",
        "columns_mode = data.mode().iloc[0]\n",
        "print(\"Mode of each column\")\n",
        "print(columns_mode)\n",
        "\n",
        "\n",
        "\n"
      ],
      "metadata": {
        "colab": {
          "base_uri": "https://localhost:8080/"
        },
        "id": "YEfNwWWQEZnf",
        "outputId": "a9cc3b2c-7d8d-4668-bd6c-9bdb6e137218"
      },
      "execution_count": null,
      "outputs": [
        {
          "output_type": "stream",
          "name": "stderr",
          "text": [
            "IOPub data rate exceeded.\n",
            "The notebook server will temporarily stop sending output\n",
            "to the client in order to avoid crashing it.\n",
            "To change this limit, set the config variable\n",
            "`--NotebookApp.iopub_data_rate_limit`.\n",
            "\n",
            "Current values:\n",
            "NotebookApp.iopub_data_rate_limit=1000000.0 (bytes/sec)\n",
            "NotebookApp.rate_limit_window=3.0 (secs)\n",
            "\n",
            "<ipython-input-20-69711270b0aa>:5: FutureWarning: The default value of numeric_only in DataFrame.mean is deprecated. In a future version, it will default to False. In addition, specifying 'numeric_only=None' is deprecated. Select only valid columns or specify the value of numeric_only to silence this warning.\n",
            "  columns_mean = data.mean()\n"
          ]
        },
        {
          "output_type": "stream",
          "name": "stdout",
          "text": [
            "Mean of each column\n",
            "age                  47.624908\n",
            "height              162.273387\n",
            "weight               63.324269\n",
            "waistline            81.274312\n",
            "sight_left            0.982294\n",
            "sight_right           0.978963\n",
            "hear_left             1.031301\n",
            "hear_right            1.030425\n",
            "SBP                 122.434184\n",
            "DBP                  76.061190\n",
            "BLDS                100.504520\n",
            "tot_chole           195.637106\n",
            "HDL_chole            56.955792\n",
            "LDL_chole           113.092672\n",
            "triglyceride        132.401188\n",
            "hemoglobin           14.230024\n",
            "urine_protein         1.094277\n",
            "serum_creatinine      0.860222\n",
            "SGOT_AST             25.990186\n",
            "SGOT_ALT             25.768144\n",
            "gamma_GTP            37.210200\n",
            "SMK_stat_type_cd      1.609364\n",
            "dtype: float64\n",
            "Median of each column\n",
            "age                  45.0\n",
            "height              160.0\n",
            "weight               60.0\n",
            "waistline            81.0\n",
            "sight_left            1.0\n",
            "sight_right           1.0\n",
            "hear_left             1.0\n",
            "hear_right            1.0\n",
            "SBP                 120.0\n",
            "DBP                  76.0\n",
            "BLDS                 96.0\n",
            "tot_chole           193.0\n",
            "HDL_chole            55.0\n",
            "LDL_chole           111.0\n",
            "triglyceride        107.0\n",
            "hemoglobin           14.3\n",
            "urine_protein         1.0\n",
            "serum_creatinine      0.8\n",
            "SGOT_AST             23.0\n",
            "SGOT_ALT             20.0\n",
            "gamma_GTP            23.0\n",
            "SMK_stat_type_cd      1.0\n",
            "dtype: float64\n",
            "Mode of each column\n",
            "sex                  Male\n",
            "age                    40\n",
            "height              160.0\n",
            "weight               60.0\n",
            "waistline            80.0\n",
            "sight_left            1.0\n",
            "sight_right           1.0\n",
            "hear_left             1.0\n",
            "hear_right            1.0\n",
            "SBP                 120.0\n",
            "DBP                  80.0\n",
            "BLDS                 94.0\n",
            "tot_chole           199.0\n",
            "HDL_chole            50.0\n",
            "LDL_chole           107.0\n",
            "triglyceride         78.0\n",
            "hemoglobin           13.5\n",
            "urine_protein         1.0\n",
            "serum_creatinine      0.8\n",
            "SGOT_AST             20.0\n",
            "SGOT_ALT             15.0\n",
            "gamma_GTP            14.0\n",
            "SMK_stat_type_cd      1.0\n",
            "DRK_YN                  N\n",
            "Name: 0, dtype: object\n"
          ]
        },
        {
          "output_type": "stream",
          "name": "stderr",
          "text": [
            "<ipython-input-20-69711270b0aa>:8: FutureWarning: The default value of numeric_only in DataFrame.median is deprecated. In a future version, it will default to False. In addition, specifying 'numeric_only=None' is deprecated. Select only valid columns or specify the value of numeric_only to silence this warning.\n",
            "  columns_median = data.median()\n"
          ]
        }
      ]
    },
    {
      "cell_type": "code",
      "source": [
        "# 2. Plot each of the columns with different colors (check what kind of graph is suitable )\n",
        "import pandas as pd\n",
        "import matplotlib.pyplot as plt\n",
        "data = pd.read_csv('/content/sample_data/smoking_driking_dataset_Ver01[1].csv')\n",
        "data.plot()"
      ],
      "metadata": {
        "id": "_brGjcQsqAMV"
      },
      "execution_count": null,
      "outputs": []
    },
    {
      "cell_type": "code",
      "source": [
        "# 3. Create a game (like lottery/ rock paper/scissors) and write a python code to record how many times the computer won and the user won in an excel file. Plot the graph showing the success rate of user and computer with different colors.\n",
        "import random\n",
        "import pandas as pd\n",
        "import matplotlib.pyplot as plt\n",
        "com = 0\n",
        "you = 0\n",
        "results = [] # To store the results for each round\n",
        "for i in range(5):\n",
        "computer = random.randint(0, 9)\n",
        "user = int(input(\"Enter a number between 0 to 9: \"))\n",
        "result = \"\"\n",
        "if user < 0 or user > 9:\n",
        "result = \"Number out of range\"\n",
        "else:\n",
        "print(f\"Your number: {user}\")\n",
        "print(f\"Computer number: {computer}\")\n",
        "if user > computer:\n",
        "result = \"You won!\"\n",
        "you += 1\n",
        "elif user == computer:\n",
        "result = \"It's a Tie!\"\n",
        "else:\n",
        "result = \"Computer Won\"\n",
        "com += 1\n",
        "results.append(result)\n",
        "print(f\"You won {you} times\")\n",
        "print(f\"Computer won {com} times\")\n",
        "if you > com:\n",
        "print(\"YOU WON THE LOTTERY!!\")\n",
        "else:\n",
        "print(\"COMPUTER WON THE LOTTERY!!\")\n",
        "results_df = pd.DataFrame(results, columns=['Result'])\n",
        "results_df.to_excel('game_results.xlsx', index=False)players = ['User', 'Computer']\n",
        "success_rate = [you / 5 * 100, com / 5 * 100]\n",
        "plt.bar(players, success_rate, color=['green', 'red'])\n",
        "plt.xlabel('Player')\n",
        "plt.ylabel('Success Rate (%)')\n",
        "plt.title('Game Success Rate')\n",
        "plt.show()\n"
      ],
      "metadata": {
        "id": "x71f4EmSqAcP"
      },
      "execution_count": null,
      "outputs": []
    }
  ]
}