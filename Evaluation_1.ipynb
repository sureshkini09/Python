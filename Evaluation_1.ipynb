{
  "nbformat": 4,
  "nbformat_minor": 0,
  "metadata": {
    "colab": {
      "provenance": [],
      "authorship_tag": "ABX9TyORNqn822Ka/igZciGm3eOJ",
      "include_colab_link": true
    },
    "kernelspec": {
      "name": "python3",
      "display_name": "Python 3"
    },
    "language_info": {
      "name": "python"
    }
  },
  "cells": [
    {
      "cell_type": "markdown",
      "metadata": {
        "id": "view-in-github",
        "colab_type": "text"
      },
      "source": [
        "<a href=\"https://colab.research.google.com/github/sureshkini09/Python/blob/main/Evaluation_1.ipynb\" target=\"_parent\"><img src=\"https://colab.research.google.com/assets/colab-badge.svg\" alt=\"Open In Colab\"/></a>"
      ]
    },
    {
      "cell_type": "code",
      "source": [
        "# even and odd\n",
        "list1=[]\n",
        "list2=[]\n",
        "list3=[]\n",
        "\n",
        "for i in range(1,10):\n",
        "  nu=int(input(\"Enter the number\\n\"))\n",
        "\n",
        "  list1.append(nu)\n",
        "  if nu%2==0:\n",
        "    list2.append(nu)\n",
        "  else:\n",
        "    list3.append(nu)\n",
        "print(\"Given numbers: \",list1)\n",
        "print(\"\\nEven: \",list2)\n",
        "print(\"\\nOdd: \",list3)"
      ],
      "metadata": {
        "id": "qFIImbNIrsMW"
      },
      "execution_count": null,
      "outputs": []
    },
    {
      "cell_type": "code",
      "source": [
        "\n",
        "# pallindrome\n",
        "str=input(\"Enter the string\\n\")\n",
        "str1=str[::-1]\n",
        "if str1==str:\n",
        "  print(\"The given string is pallindrome\\n\")\n",
        "else:\n",
        "  print(\"The given string is not pallindrome\\n\")"
      ],
      "metadata": {
        "colab": {
          "base_uri": "https://localhost:8080/"
        },
        "id": "0U62e6VGtvu7",
        "outputId": "0b046f19-a320-4ea6-bd94-12c45663bfd3"
      },
      "execution_count": null,
      "outputs": [
        {
          "output_type": "stream",
          "name": "stdout",
          "text": [
            "Enter the string\n",
            "GADAG\n",
            "The given string is pallindrome\n",
            "\n"
          ]
        }
      ]
    },
    {
      "cell_type": "code",
      "source": [
        "# prime or non prime\n",
        "num = int(input(\"Enter the number: \"))\n",
        "\n",
        "def prime(n):\n",
        " for j in range(2,n+1):\n",
        "  if(n%j==0):\n",
        "    if(n==j):\n",
        "      return(1)\n",
        "    else:\n",
        "      return(0)\n",
        "\n",
        "def divi(n):\n",
        "    if(n%3==0):\n",
        "      print(\"The given number is divisible by 3\\n\")\n",
        "    else:\n",
        "      print(\"The given number is not divisible by 3\\n\")\n",
        "\n",
        "    if(n%7==0):\n",
        "      print(\"The given number is divisible by 7\\n\")\n",
        "    else:\n",
        "      print(\"The given number is not divisible by 7\\n\")\n",
        "\n",
        "    if(n%9==0):\n",
        "      print(\"The given number is divisible by 9\\n\")\n",
        "    else:\n",
        "      print(\"The given number is not divisible by 9\\n\")\n",
        "\n",
        "    if(n%11==0):\n",
        "      print(\"The given number is divisible by 3\\n\")\n",
        "    else:\n",
        "      print(\"The given number is not divisible by 3\\n\")\n",
        "\n",
        "\n",
        "nu=prime(num)\n",
        "\n",
        "if(nu==1):\n",
        "  print(\"The given number is prime\\n\")\n",
        "else:\n",
        "  print(\"The given number is not prime\\n\")\n",
        "  divi(num)\n"
      ],
      "metadata": {
        "colab": {
          "base_uri": "https://localhost:8080/"
        },
        "id": "r_W3o65Atv6u",
        "outputId": "4d84431c-8f96-4912-91b9-c5b8e0ac93a8"
      },
      "execution_count": null,
      "outputs": [
        {
          "output_type": "stream",
          "name": "stdout",
          "text": [
            "Enter the number: 85\n",
            "The given number is not prime\n",
            "\n",
            "The given number is not divisible by 3\n",
            "\n",
            "The given number is not divisible by 7\n",
            "\n",
            "The given number is not divisible by 9\n",
            "\n",
            "The given number is not divisible by 3\n",
            "\n"
          ]
        }
      ]
    },
    {
      "cell_type": "code",
      "source": [
        "# pattern\n",
        "n=int(input(\"Enter number of rows: \"))\n",
        "\n",
        "k=0\n",
        "st='*'\n",
        "for i in range(0,n+1):\n",
        "    print(k*st)\n",
        "    k+=1\n",
        "    print(\"\\n\")"
      ],
      "metadata": {
        "colab": {
          "base_uri": "https://localhost:8080/"
        },
        "id": "Lt8uVyxvtwFa",
        "outputId": "2b5640d0-43e2-4598-8261-f15cd7cd76b3"
      },
      "execution_count": null,
      "outputs": [
        {
          "output_type": "stream",
          "name": "stdout",
          "text": [
            "Enter number of rows: 8\n",
            "\n",
            "\n",
            "\n",
            "*\n",
            "\n",
            "\n",
            "**\n",
            "\n",
            "\n",
            "***\n",
            "\n",
            "\n",
            "****\n",
            "\n",
            "\n",
            "*****\n",
            "\n",
            "\n",
            "******\n",
            "\n",
            "\n",
            "*******\n",
            "\n",
            "\n",
            "********\n",
            "\n",
            "\n"
          ]
        }
      ]
    },
    {
      "cell_type": "code",
      "source": [
        "x = int(input(\"Enter \"))\n",
        "\n",
        "if x==1 or x==2:\n",
        "  print(\"Number is prime\")\n",
        "else:\n",
        "  for i in range(2,x):\n",
        "    if (x%i==0):\n",
        "      print(\"Number is not a prime\")\n",
        "      break\n",
        "    else:\n",
        "      print(\"Number is a prime\")\n",
        "\n"
      ],
      "metadata": {
        "colab": {
          "base_uri": "https://localhost:8080/"
        },
        "id": "Q-zFFEZhuFno",
        "outputId": "c1913a76-d49e-4a57-fb06-02d7a64a9cc8"
      },
      "execution_count": null,
      "outputs": [
        {
          "output_type": "stream",
          "name": "stdout",
          "text": [
            "Enter 520\n",
            "Number is not a prime\n"
          ]
        }
      ]
    },
    {
      "cell_type": "code",
      "source": [
        "n = int(input(\"Enter the num of rows\"))\n",
        "\n",
        "for i in range(1,n+1):\n",
        "  for j in range(0,n+1):\n",
        "    print(\"*\"*i)\n",
        "  print(\"\\n\")"
      ],
      "metadata": {
        "colab": {
          "base_uri": "https://localhost:8080/"
        },
        "id": "RipupXhsW7EG",
        "outputId": "28e2969d-97ad-411c-e0eb-0ec6deec3e26"
      },
      "execution_count": null,
      "outputs": [
        {
          "output_type": "stream",
          "name": "stdout",
          "text": [
            "Enter the num of rows3\n",
            "*\n",
            "*\n",
            "*\n",
            "*\n",
            "\n",
            "\n",
            "**\n",
            "**\n",
            "**\n",
            "**\n",
            "\n",
            "\n",
            "***\n",
            "***\n",
            "***\n",
            "***\n",
            "\n",
            "\n"
          ]
        }
      ]
    },
    {
      "cell_type": "code",
      "source": [
        "\n"
      ],
      "metadata": {
        "id": "bWHdq5AkYydQ"
      },
      "execution_count": null,
      "outputs": []
    }
  ]
}